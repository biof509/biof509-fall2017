{
 "cells": [
  {
   "cell_type": "markdown",
   "metadata": {},
   "source": [
    "# Graphical User Interfaces\n",
    "\n",
    "Object oriented programming and particularly inheritance is commonly used for creating GUIs. There are [a large number](https://wiki.python.org/moin/GuiProgramming) of different frameworks supporting building GUIs. The following are particularly relevant:\n",
    "\n",
    "* [TkInter](https://docs.python.org/3.5/library/tkinter.html) - This is the official/default GUI framework\n",
    "* [guidata](https://pythonhosted.org/guidata/) - A GUI framework for dataset display and editing\n",
    "* [VTK](http://www.vtk.org/) - A GUI framework for data visualization\n",
    "* [pyqtgraph](http://www.pyqtgraph.org/documentation/index.html) - A GUI framework for data visualization, easily installed with `conda install pyqtgraph`\n",
    "* [matplotlib](http://matplotlib.org/) - As well as creating plots matplotlib can support interaction"
   ]
  },
  {
   "cell_type": "markdown",
   "metadata": {},
   "source": [
    "## Matplotlib\n",
    "\n",
    "For simple programs, displaying data and taking basic input, often a command line application will be much faster to implement than a GUI. The times when I have moved away from the command line it has been to interact with image data and plots. Here, matplotlib often works very well. Either it can be embedded in a larger application or it can be used directly.\n",
    "\n",
    "There are a number of examples on the [matplotlib site](http://matplotlib.org/examples/index.html).\n",
    "\n",
    "Here is a stripped down example of a GUI I recently used."
   ]
  },
  {
   "cell_type": "code",
   "execution_count": 2,
   "metadata": {},
   "outputs": [
    {
     "name": "stdout",
     "output_type": "stream",
     "text": [
      "(793.66, 944.31) --> (2157.29, 2145.60)\n",
      "The button you used were: 1 1\n",
      "\n",
      "\n",
      "(525.80, 432.94) --> (1783.92, 1967.03)\n",
      "The button you used were: 3 3\n",
      "\n",
      "\n",
      "(525.80, 432.94) --> (1783.92, 1967.03)\n",
      "The button you used were: 1 1\n",
      "\n",
      "\n",
      "(525.80, 432.94) --> (1783.92, 1967.03)\n",
      "The button you used were: 1 1\n",
      "\n",
      "\n",
      "(46.90, 83.92) --> (298.53, 335.54)\n",
      "The button you used were: 1 1\n",
      "\n",
      "\n",
      "(46.90, 83.92) --> (298.53, 335.54)\n",
      "The button you used were: 1 1\n",
      "\n",
      "\n"
     ]
    }
   ],
   "source": [
    "\"\"\"\n",
    "Do a mouseclick somewhere, move the mouse to some destination, release\n",
    "the button.  This class gives click- and release-events and also draws\n",
    "a line or a box from the click-point to the actual mouseposition\n",
    "(within the same axes) until the button is released.  Within the\n",
    "method 'self.ignore()' it is checked wether the button from eventpress\n",
    "and eventrelease are the same.\n",
    "\n",
    "\"\"\"\n",
    "from matplotlib.widgets import RectangleSelector\n",
    "import matplotlib.pyplot as plt\n",
    "import matplotlib.cbook as cbook\n",
    "\n",
    "%matplotlib tk\n",
    "\n",
    "\n",
    "\n",
    "def line_select_callback(eclick, erelease):\n",
    "    'eclick and erelease are the press and release events'\n",
    "    x1, y1 = eclick.xdata, eclick.ydata\n",
    "    x2, y2 = erelease.xdata, erelease.ydata\n",
    "    print(\"({0:.2f}, {1:.2f}) --> ({2:.2f}, {3:.2f})\".format(x1, y1, x2, y2))\n",
    "    print(\"The button you used were: {0} {1}\".format(eclick.button, erelease.button))\n",
    "    print('\\n')\n",
    "\n",
    "    \n",
    "def toggle_selector(event):\n",
    "    print (' Key pressed.')\n",
    "    if event.key in ['Q', 'q'] and toggle_selector.RS.active:\n",
    "        print ('RectangleSelector deactivated.')\n",
    "        toggle_selector.RS.set_active(False)\n",
    "    if event.key in ['A', 'a'] and not toggle_selector.RS.active:\n",
    "        print ('RectangleSelector activated.')\n",
    "        toggle_selector.RS.set_active(True)\n",
    "\n",
    "\n",
    "        \n",
    "\n",
    "image = plt.imread('Commodore-Grace-M-Hopper-USN.jpg')\n",
    "fig, current_ax = plt.subplots()\n",
    "plt.imshow(image)\n",
    "toggle_selector.RS = RectangleSelector(current_ax, \n",
    "        line_select_callback,\n",
    "        drawtype='box', useblit=True,\n",
    "        button=[1,3], # don't use middle button\n",
    "        minspanx=5, minspany=5,\n",
    "        spancoords='pixels')\n",
    "plt.connect('key_press_event', toggle_selector)\n",
    "plt.show()\n"
   ]
  },
  {
   "cell_type": "markdown",
   "metadata": {},
   "source": [
    "We are using a variety of objects here and our code still looks very procedural. For a simple task such as this we don't need to give much thought to how we structure our program. As GUI projects become more complex applying object oriented concepts becomes more attractive.\n",
    "\n",
    "We can take the very simple GUI below and apply a, by now hopefully familiar, analysis approach.\n",
    "\n",
    "![Simple GUI](simple_gui.png)\n",
    "\n",
    "What are the components of this GUI? What are the __things__ that are involved?\n",
    "\n",
    "Are any components similar to each other? Do they have a '__is a__' type relationship? \n",
    "\n",
    "Which components will interact with each other? Do they have a '__has a__' type relationship?"
   ]
  },
  {
   "cell_type": "code",
   "execution_count": null,
   "metadata": {
    "collapsed": true
   },
   "outputs": [],
   "source": []
  },
  {
   "cell_type": "markdown",
   "metadata": {},
   "source": [
    "## TkInter\n",
    "\n",
    "TkInter is widely used with plenty of documentation available but may prove somewhat limited for more data intensive applications.\n",
    "\n",
    "* [Documentation from the standard library](https://docs.python.org/3/library/tk.html)\n",
    "* [Further documentation from python.org](https://docs.python.org/3.5/library/tkinter.html)\n",
    "* [TkDocs](http://www.tkdocs.com/index.html)\n",
    "\n",
    "Let's look at a simple example from the documentation"
   ]
  },
  {
   "cell_type": "code",
   "execution_count": 4,
   "metadata": {},
   "outputs": [
    {
     "name": "stdout",
     "output_type": "stream",
     "text": [
      "hi there, everyone!\n",
      "hi there, everyone!\n"
     ]
    },
    {
     "ename": "KeyboardInterrupt",
     "evalue": "",
     "output_type": "error",
     "traceback": [
      "\u001b[1;31m--------------------------------------------------------------------------\u001b[0m",
      "\u001b[1;31mKeyboardInterrupt\u001b[0m                        Traceback (most recent call last)",
      "\u001b[1;32m<ipython-input-4-61862c76eeb9>\u001b[0m in \u001b[0;36m<module>\u001b[1;34m()\u001b[0m\n\u001b[0;32m     22\u001b[0m \u001b[0mroot\u001b[0m \u001b[1;33m=\u001b[0m \u001b[0mtk\u001b[0m\u001b[1;33m.\u001b[0m\u001b[0mTk\u001b[0m\u001b[1;33m(\u001b[0m\u001b[1;33m)\u001b[0m\u001b[1;33m\u001b[0m\u001b[0m\n\u001b[0;32m     23\u001b[0m \u001b[0mapp\u001b[0m \u001b[1;33m=\u001b[0m \u001b[0mApplication\u001b[0m\u001b[1;33m(\u001b[0m\u001b[0mmaster\u001b[0m\u001b[1;33m=\u001b[0m\u001b[0mroot\u001b[0m\u001b[1;33m)\u001b[0m\u001b[1;33m\u001b[0m\u001b[0m\n\u001b[1;32m---> 24\u001b[1;33m \u001b[0mapp\u001b[0m\u001b[1;33m.\u001b[0m\u001b[0mmainloop\u001b[0m\u001b[1;33m(\u001b[0m\u001b[1;33m)\u001b[0m\u001b[1;33m\u001b[0m\u001b[0m\n\u001b[0m",
      "\u001b[1;32m~\\Anaconda3\\lib\\tkinter\\__init__.py\u001b[0m in \u001b[0;36mmainloop\u001b[1;34m(self, n)\u001b[0m\n\u001b[0;32m   1275\u001b[0m     \u001b[1;32mdef\u001b[0m \u001b[0mmainloop\u001b[0m\u001b[1;33m(\u001b[0m\u001b[0mself\u001b[0m\u001b[1;33m,\u001b[0m \u001b[0mn\u001b[0m\u001b[1;33m=\u001b[0m\u001b[1;36m0\u001b[0m\u001b[1;33m)\u001b[0m\u001b[1;33m:\u001b[0m\u001b[1;33m\u001b[0m\u001b[0m\n\u001b[0;32m   1276\u001b[0m         \u001b[1;34m\"\"\"Call the mainloop of Tk.\"\"\"\u001b[0m\u001b[1;33m\u001b[0m\u001b[0m\n\u001b[1;32m-> 1277\u001b[1;33m         \u001b[0mself\u001b[0m\u001b[1;33m.\u001b[0m\u001b[0mtk\u001b[0m\u001b[1;33m.\u001b[0m\u001b[0mmainloop\u001b[0m\u001b[1;33m(\u001b[0m\u001b[0mn\u001b[0m\u001b[1;33m)\u001b[0m\u001b[1;33m\u001b[0m\u001b[0m\n\u001b[0m\u001b[0;32m   1278\u001b[0m     \u001b[1;32mdef\u001b[0m \u001b[0mquit\u001b[0m\u001b[1;33m(\u001b[0m\u001b[0mself\u001b[0m\u001b[1;33m)\u001b[0m\u001b[1;33m:\u001b[0m\u001b[1;33m\u001b[0m\u001b[0m\n\u001b[0;32m   1279\u001b[0m         \u001b[1;34m\"\"\"Quit the Tcl interpreter. All widgets will be destroyed.\"\"\"\u001b[0m\u001b[1;33m\u001b[0m\u001b[0m\n",
      "\u001b[1;31mKeyboardInterrupt\u001b[0m: "
     ]
    }
   ],
   "source": [
    "import tkinter as tk\n",
    "\n",
    "class Application(tk.Frame):\n",
    "    def __init__(self, master=None):\n",
    "        tk.Frame.__init__(self, master)\n",
    "        self.pack()\n",
    "        self.createWidgets()\n",
    "\n",
    "    def createWidgets(self):\n",
    "        self.hi_there = tk.Button(self)\n",
    "        self.hi_there[\"text\"] = \"Hello World\\n(click me)\"\n",
    "        self.hi_there[\"command\"] = self.say_hi\n",
    "        self.hi_there.pack(side=\"top\")\n",
    "\n",
    "        self.QUIT = tk.Button(self, text=\"QUIT\", fg=\"red\",\n",
    "                                            command=root.destroy)\n",
    "        self.QUIT.pack(side=\"bottom\")\n",
    "\n",
    "    def say_hi(self):\n",
    "        print(\"hi there, everyone!\")\n",
    "\n",
    "root = tk.Tk()\n",
    "app = Application(master=root)\n",
    "app.mainloop()"
   ]
  },
  {
   "cell_type": "markdown",
   "metadata": {},
   "source": [
    "Although this works, it is visually unappealing. We can improve on this using styles and themes."
   ]
  },
  {
   "cell_type": "code",
   "execution_count": 5,
   "metadata": {},
   "outputs": [
    {
     "ename": "KeyboardInterrupt",
     "evalue": "",
     "output_type": "error",
     "traceback": [
      "\u001b[1;31m--------------------------------------------------------------------------\u001b[0m",
      "\u001b[1;31mKeyboardInterrupt\u001b[0m                        Traceback (most recent call last)",
      "\u001b[1;32m<ipython-input-5-97fb8912ed7c>\u001b[0m in \u001b[0;36m<module>\u001b[1;34m()\u001b[0m\n\u001b[0;32m     30\u001b[0m \u001b[0ms\u001b[0m\u001b[1;33m.\u001b[0m\u001b[0mconfigure\u001b[0m\u001b[1;33m(\u001b[0m\u001b[1;34m'TButton'\u001b[0m\u001b[1;33m,\u001b[0m \u001b[0mfont\u001b[0m\u001b[1;33m=\u001b[0m\u001b[1;34m'helvetica 24'\u001b[0m\u001b[1;33m)\u001b[0m\u001b[1;33m\u001b[0m\u001b[0m\n\u001b[0;32m     31\u001b[0m \u001b[0ms\u001b[0m\u001b[1;33m.\u001b[0m\u001b[0mconfigure\u001b[0m\u001b[1;33m(\u001b[0m\u001b[1;34m'Alert.TButton'\u001b[0m\u001b[1;33m,\u001b[0m \u001b[0mforeground\u001b[0m\u001b[1;33m=\u001b[0m\u001b[1;34m'red'\u001b[0m\u001b[1;33m)\u001b[0m\u001b[1;33m\u001b[0m\u001b[0m\n\u001b[1;32m---> 32\u001b[1;33m \u001b[0mroot\u001b[0m\u001b[1;33m.\u001b[0m\u001b[0mmainloop\u001b[0m\u001b[1;33m(\u001b[0m\u001b[1;33m)\u001b[0m\u001b[1;33m\u001b[0m\u001b[0m\n\u001b[0m",
      "\u001b[1;32m~\\Anaconda3\\lib\\tkinter\\__init__.py\u001b[0m in \u001b[0;36mmainloop\u001b[1;34m(self, n)\u001b[0m\n\u001b[0;32m   1275\u001b[0m     \u001b[1;32mdef\u001b[0m \u001b[0mmainloop\u001b[0m\u001b[1;33m(\u001b[0m\u001b[0mself\u001b[0m\u001b[1;33m,\u001b[0m \u001b[0mn\u001b[0m\u001b[1;33m=\u001b[0m\u001b[1;36m0\u001b[0m\u001b[1;33m)\u001b[0m\u001b[1;33m:\u001b[0m\u001b[1;33m\u001b[0m\u001b[0m\n\u001b[0;32m   1276\u001b[0m         \u001b[1;34m\"\"\"Call the mainloop of Tk.\"\"\"\u001b[0m\u001b[1;33m\u001b[0m\u001b[0m\n\u001b[1;32m-> 1277\u001b[1;33m         \u001b[0mself\u001b[0m\u001b[1;33m.\u001b[0m\u001b[0mtk\u001b[0m\u001b[1;33m.\u001b[0m\u001b[0mmainloop\u001b[0m\u001b[1;33m(\u001b[0m\u001b[0mn\u001b[0m\u001b[1;33m)\u001b[0m\u001b[1;33m\u001b[0m\u001b[0m\n\u001b[0m\u001b[0;32m   1278\u001b[0m     \u001b[1;32mdef\u001b[0m \u001b[0mquit\u001b[0m\u001b[1;33m(\u001b[0m\u001b[0mself\u001b[0m\u001b[1;33m)\u001b[0m\u001b[1;33m:\u001b[0m\u001b[1;33m\u001b[0m\u001b[0m\n\u001b[0;32m   1279\u001b[0m         \u001b[1;34m\"\"\"Quit the Tcl interpreter. All widgets will be destroyed.\"\"\"\u001b[0m\u001b[1;33m\u001b[0m\u001b[0m\n",
      "\u001b[1;31mKeyboardInterrupt\u001b[0m: "
     ]
    }
   ],
   "source": [
    "import tkinter as tk\n",
    "from tkinter import ttk\n",
    "\n",
    "\n",
    "class Application(ttk.Frame):\n",
    "    def __init__(self, master=None):\n",
    "        super().__init__(master, padding=\"3 3 12 12\")\n",
    "        self.grid(column=0, row=0, )\n",
    "        self.createWidgets()\n",
    "        self.master.title('Test')\n",
    "\n",
    "    def createWidgets(self):\n",
    "        self.hi_there = ttk.Button(self)\n",
    "        self.hi_there[\"text\"] = \"Hello World\\n(click me)\"\n",
    "        self.hi_there[\"command\"] = self.say_hi\n",
    "\n",
    "        self.QUIT = ttk.Button(self, text=\"QUIT\", style='Alert.TButton', command=root.destroy)\n",
    "\n",
    "        for child in self.winfo_children(): \n",
    "            child.grid_configure(padx=10, pady=10)\n",
    "\n",
    "    def say_hi(self):\n",
    "        print(\"hi there, everyone!\")\n",
    "\n",
    "        \n",
    "\n",
    "root = tk.Tk()\n",
    "app = Application(master=root)\n",
    "s = ttk.Style()\n",
    "s.configure('TButton', font='helvetica 24')\n",
    "s.configure('Alert.TButton', foreground='red')\n",
    "root.mainloop()"
   ]
  },
  {
   "cell_type": "markdown",
   "metadata": {},
   "source": [
    "Our Application class is very similar to our previous code. By applying style attributes outside of the core components and logic we can keep the program straightforward and easy to modify.\n",
    "\n",
    "In addition to manually modifying the appearance of different parts of our GUI we can also apply styles."
   ]
  },
  {
   "cell_type": "code",
   "execution_count": 5,
   "metadata": {},
   "outputs": [
    {
     "data": {
      "text/plain": [
       "('winnative', 'clam', 'alt', 'default', 'classic', 'vista', 'xpnative')"
      ]
     },
     "execution_count": 5,
     "metadata": {},
     "output_type": "execute_result"
    }
   ],
   "source": [
    "s.theme_names()"
   ]
  },
  {
   "cell_type": "code",
   "execution_count": 6,
   "metadata": {},
   "outputs": [
    {
     "ename": "KeyboardInterrupt",
     "evalue": "",
     "output_type": "error",
     "traceback": [
      "\u001b[1;31m--------------------------------------------------------------------------\u001b[0m",
      "\u001b[1;31mKeyboardInterrupt\u001b[0m                        Traceback (most recent call last)",
      "\u001b[1;32m<ipython-input-6-e43919d07b46>\u001b[0m in \u001b[0;36m<module>\u001b[1;34m()\u001b[0m\n\u001b[0;32m      3\u001b[0m \u001b[0ms\u001b[0m \u001b[1;33m=\u001b[0m \u001b[0mttk\u001b[0m\u001b[1;33m.\u001b[0m\u001b[0mStyle\u001b[0m\u001b[1;33m(\u001b[0m\u001b[1;33m)\u001b[0m\u001b[1;33m\u001b[0m\u001b[0m\n\u001b[0;32m      4\u001b[0m \u001b[0ms\u001b[0m\u001b[1;33m.\u001b[0m\u001b[0mtheme_use\u001b[0m\u001b[1;33m(\u001b[0m\u001b[1;34m'clam'\u001b[0m\u001b[1;33m)\u001b[0m\u001b[1;33m\u001b[0m\u001b[0m\n\u001b[1;32m----> 5\u001b[1;33m \u001b[0mroot\u001b[0m\u001b[1;33m.\u001b[0m\u001b[0mmainloop\u001b[0m\u001b[1;33m(\u001b[0m\u001b[1;33m)\u001b[0m\u001b[1;33m\u001b[0m\u001b[0m\n\u001b[0m",
      "\u001b[1;32m~\\Anaconda3\\lib\\tkinter\\__init__.py\u001b[0m in \u001b[0;36mmainloop\u001b[1;34m(self, n)\u001b[0m\n\u001b[0;32m   1275\u001b[0m     \u001b[1;32mdef\u001b[0m \u001b[0mmainloop\u001b[0m\u001b[1;33m(\u001b[0m\u001b[0mself\u001b[0m\u001b[1;33m,\u001b[0m \u001b[0mn\u001b[0m\u001b[1;33m=\u001b[0m\u001b[1;36m0\u001b[0m\u001b[1;33m)\u001b[0m\u001b[1;33m:\u001b[0m\u001b[1;33m\u001b[0m\u001b[0m\n\u001b[0;32m   1276\u001b[0m         \u001b[1;34m\"\"\"Call the mainloop of Tk.\"\"\"\u001b[0m\u001b[1;33m\u001b[0m\u001b[0m\n\u001b[1;32m-> 1277\u001b[1;33m         \u001b[0mself\u001b[0m\u001b[1;33m.\u001b[0m\u001b[0mtk\u001b[0m\u001b[1;33m.\u001b[0m\u001b[0mmainloop\u001b[0m\u001b[1;33m(\u001b[0m\u001b[0mn\u001b[0m\u001b[1;33m)\u001b[0m\u001b[1;33m\u001b[0m\u001b[0m\n\u001b[0m\u001b[0;32m   1278\u001b[0m     \u001b[1;32mdef\u001b[0m \u001b[0mquit\u001b[0m\u001b[1;33m(\u001b[0m\u001b[0mself\u001b[0m\u001b[1;33m)\u001b[0m\u001b[1;33m:\u001b[0m\u001b[1;33m\u001b[0m\u001b[0m\n\u001b[0;32m   1279\u001b[0m         \u001b[1;34m\"\"\"Quit the Tcl interpreter. All widgets will be destroyed.\"\"\"\u001b[0m\u001b[1;33m\u001b[0m\u001b[0m\n",
      "\u001b[1;31mKeyboardInterrupt\u001b[0m: "
     ]
    }
   ],
   "source": [
    "root = tk.Tk()\n",
    "app = Application(master=root)\n",
    "s = ttk.Style()\n",
    "s.theme_use('clam')\n",
    "root.mainloop()"
   ]
  },
  {
   "cell_type": "markdown",
   "metadata": {},
   "source": [
    "As our applications get more complicated we must give greater thought to the layout. The following example comes from the [TkDocs site](http://www.tkdocs.com/tutorial/firstexample.html).\n",
    "\n",
    "Notice, we are not using a class to encapsulate our code here. "
   ]
  },
  {
   "cell_type": "code",
   "execution_count": 8,
   "metadata": {},
   "outputs": [
    {
     "ename": "KeyboardInterrupt",
     "evalue": "",
     "output_type": "error",
     "traceback": [
      "\u001b[1;31m--------------------------------------------------------------------------\u001b[0m",
      "\u001b[1;31mKeyboardInterrupt\u001b[0m                        Traceback (most recent call last)",
      "\u001b[1;32m<ipython-input-8-9b099add85d5>\u001b[0m in \u001b[0;36m<module>\u001b[1;34m()\u001b[0m\n\u001b[0;32m     36\u001b[0m \u001b[0mroot\u001b[0m\u001b[1;33m.\u001b[0m\u001b[0mbind\u001b[0m\u001b[1;33m(\u001b[0m\u001b[1;34m'<Return>'\u001b[0m\u001b[1;33m,\u001b[0m \u001b[0mcalculate\u001b[0m\u001b[1;33m)\u001b[0m\u001b[1;33m\u001b[0m\u001b[0m\n\u001b[0;32m     37\u001b[0m \u001b[1;33m\u001b[0m\u001b[0m\n\u001b[1;32m---> 38\u001b[1;33m \u001b[0mroot\u001b[0m\u001b[1;33m.\u001b[0m\u001b[0mmainloop\u001b[0m\u001b[1;33m(\u001b[0m\u001b[1;33m)\u001b[0m\u001b[1;33m\u001b[0m\u001b[0m\n\u001b[0m",
      "\u001b[1;32m~\\Anaconda3\\lib\\tkinter\\__init__.py\u001b[0m in \u001b[0;36mmainloop\u001b[1;34m(self, n)\u001b[0m\n\u001b[0;32m   1275\u001b[0m     \u001b[1;32mdef\u001b[0m \u001b[0mmainloop\u001b[0m\u001b[1;33m(\u001b[0m\u001b[0mself\u001b[0m\u001b[1;33m,\u001b[0m \u001b[0mn\u001b[0m\u001b[1;33m=\u001b[0m\u001b[1;36m0\u001b[0m\u001b[1;33m)\u001b[0m\u001b[1;33m:\u001b[0m\u001b[1;33m\u001b[0m\u001b[0m\n\u001b[0;32m   1276\u001b[0m         \u001b[1;34m\"\"\"Call the mainloop of Tk.\"\"\"\u001b[0m\u001b[1;33m\u001b[0m\u001b[0m\n\u001b[1;32m-> 1277\u001b[1;33m         \u001b[0mself\u001b[0m\u001b[1;33m.\u001b[0m\u001b[0mtk\u001b[0m\u001b[1;33m.\u001b[0m\u001b[0mmainloop\u001b[0m\u001b[1;33m(\u001b[0m\u001b[0mn\u001b[0m\u001b[1;33m)\u001b[0m\u001b[1;33m\u001b[0m\u001b[0m\n\u001b[0m\u001b[0;32m   1278\u001b[0m     \u001b[1;32mdef\u001b[0m \u001b[0mquit\u001b[0m\u001b[1;33m(\u001b[0m\u001b[0mself\u001b[0m\u001b[1;33m)\u001b[0m\u001b[1;33m:\u001b[0m\u001b[1;33m\u001b[0m\u001b[0m\n\u001b[0;32m   1279\u001b[0m         \u001b[1;34m\"\"\"Quit the Tcl interpreter. All widgets will be destroyed.\"\"\"\u001b[0m\u001b[1;33m\u001b[0m\u001b[0m\n",
      "\u001b[1;31mKeyboardInterrupt\u001b[0m: "
     ]
    }
   ],
   "source": [
    "import tkinter as tk\n",
    "from tkinter import ttk, N, W, E, S\n",
    "\n",
    "def calculate(*args):\n",
    "    try:\n",
    "        value = float(feet.get())\n",
    "        meters.set(0.3048 * value)\n",
    "    except ValueError:\n",
    "        pass\n",
    "    \n",
    "root = tk.Tk()\n",
    "root.title(\"Feet to Meters\")\n",
    "\n",
    "mainframe = ttk.Frame(root, padding=\"3 3 12 12\")\n",
    "mainframe.grid(column=0, row=0, sticky=(N, W, E, S))\n",
    "mainframe.columnconfigure(0, weight=1)\n",
    "mainframe.rowconfigure(0, weight=1)\n",
    "\n",
    "feet = tk.StringVar()\n",
    "meters = tk.StringVar()\n",
    "\n",
    "feet_entry = ttk.Entry(mainframe, width=7, textvariable=feet)\n",
    "feet_entry.grid(column=2, row=1, sticky=(W, E))\n",
    "\n",
    "ttk.Label(mainframe, textvariable=meters).grid(column=2, row=2, sticky=(W, E))\n",
    "ttk.Button(mainframe, text=\"Calculate\", command=calculate).grid(column=3, row=3, sticky=W)\n",
    "\n",
    "ttk.Label(mainframe, text=\"feet\").grid(column=3, row=1, sticky=W)\n",
    "ttk.Label(mainframe, text=\"is equivalent to\").grid(column=1, row=2, sticky=E)\n",
    "ttk.Label(mainframe, text=\"meters\").grid(column=3, row=2, sticky=W)\n",
    "\n",
    "for child in mainframe.winfo_children(): \n",
    "    child.grid_configure(padx=5, pady=5)\n",
    "\n",
    "feet_entry.focus()\n",
    "root.bind('<Return>', calculate)\n",
    "\n",
    "root.mainloop()"
   ]
  },
  {
   "cell_type": "markdown",
   "metadata": {
    "collapsed": true
   },
   "source": [
    "## A practical (and complex) example\n",
    "\n",
    "Recently, I built a small GUI to label a collection of images. The goal was to display and interact (zoom and pan) with images to establish, view and edit masks of image regions. At later stages in the project manually drawn masks and masks from a machine learning model were displayed simultaneously.\n",
    "\n",
    "The images were whole slide scans of histology samples and were very large. Loading the entire image into memory was not possible and much of the complexity in the project was due to this limitation.\n",
    "\n",
    "As I was the only person using the GUI a number of quirks remain I would feel compelled to resolve if distributing the application to collaborators or more widely. Despite this, the project demonstrates many of the steps and approaches outlined for the simpler programs above."
   ]
  },
  {
   "cell_type": "markdown",
   "metadata": {
    "collapsed": true
   },
   "source": [
    "Taking the description above, what classes might we use to create this application?"
   ]
  },
  {
   "cell_type": "code",
   "execution_count": null,
   "metadata": {
    "collapsed": true
   },
   "outputs": [],
   "source": []
  },
  {
   "cell_type": "markdown",
   "metadata": {},
   "source": [
    "## Further details on alternatives\n",
    "\n",
    "TkInter and matplotlib are very useful for quickly building simple interfaces. \n",
    "\n",
    "For more advanced visualizations and complex interfaces they may start to limit what you can easily achieve. Choosing the best alternative will depend on the needs of your project.\n",
    "\n",
    "Some points to consider:\n",
    "\n",
    "__Examples__: Both VTK and pyqtgraph have a long list of examples\n",
    "\n",
    "* [VTK examples](http://www.vtk.org/Wiki/VTK/Examples/Python)\n",
    "* [pyqtgraph examples](https://github.com/pyqtgraph/pyqtgraph/tree/develop/examples)\n",
    "\n",
    "If you can find an example that is close to what you want to achieve you may be able to save a significant amount of time.\n",
    "\n",
    "__Documentation__: The python GUI packages are typically a wrapper around a more general package. The documentation is often not specific to python and it can be difficult to translate from C code or Tcl code or Java code to python. Choosing the best package may depend on which set of documentation you prefer.\n",
    "\n",
    "__Type of project / supporting tools__: Related to examples above, some packages tend to be used and have strengths for particular tasks. They may even have tools developed to aid steps in the development process. For example, Qt on which pyqtgraph is based has a dedicated editor and visual design package ([Qt Creator](http://doc.qt.io/qtcreator/creator-overview.html)) for laying out the interface elements in a GUI. If you have a complex interface with many options you may favor Qt over alternatives for this reason."
   ]
  },
  {
   "cell_type": "code",
   "execution_count": null,
   "metadata": {
    "collapsed": true
   },
   "outputs": [],
   "source": []
  }
 ],
 "metadata": {
  "kernelspec": {
   "display_name": "Python 3",
   "language": "python",
   "name": "python3"
  },
  "language_info": {
   "codemirror_mode": {
    "name": "ipython",
    "version": 3
   },
   "file_extension": ".py",
   "mimetype": "text/x-python",
   "name": "python",
   "nbconvert_exporter": "python",
   "pygments_lexer": "ipython3",
   "version": "3.6.2"
  }
 },
 "nbformat": 4,
 "nbformat_minor": 1
}
