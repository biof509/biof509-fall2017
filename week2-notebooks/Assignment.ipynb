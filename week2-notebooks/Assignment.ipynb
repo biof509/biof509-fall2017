{
 "cells": [
  {
   "cell_type": "code",
   "execution_count": 47,
   "metadata": {
    "collapsed": true
   },
   "outputs": [],
   "source": [
    "import matplotlib.pyplot as plt\n",
    "import numpy as np\n",
    "import pandas as pd\n",
    "\n",
    "np.random.seed(0)\n",
    "\n",
    "%matplotlib inline"
   ]
  },
  {
   "cell_type": "markdown",
   "metadata": {},
   "source": [
    "# Week 2 - Assignment\n",
    "\n",
    "Apply what we have covered to build a linear regression model for the data in test_dataset.csv file. Use x to predict the value of y.\n",
    "\n",
    "The steps you take may look similar to:\n",
    "\n",
    "* Load the data (done)\n",
    "* Plot and inspect the data to understand it's structure\n",
    "* Choose features and construct your dataset (you can try different powers, visual inspection may suggest other mathematical functions to try)\n",
    "* Calculate the coefficients and mean squared error\n",
    "\n",
    "You could also split the dataset up into training and validation sets but for this week it is not required. This will be covered further in future weeks."
   ]
  },
  {
   "cell_type": "code",
   "execution_count": 62,
   "metadata": {
    "collapsed": false
   },
   "outputs": [
    {
     "name": "stdout",
     "output_type": "stream",
     "text": [
      "<class 'pandas.core.frame.DataFrame'>\n",
      "RangeIndex: 2000 entries, 0 to 1999\n",
      "Data columns (total 3 columns):\n",
      "Unnamed: 0    2000 non-null int64\n",
      "x             2000 non-null float64\n",
      "y             2000 non-null float64\n",
      "dtypes: float64(2), int64(1)\n",
      "memory usage: 47.0 KB\n"
     ]
    }
   ],
   "source": [
    "df = pd.read_csv('test_dataset.csv')\n",
    "\n",
    "df.info()"
   ]
  },
  {
   "cell_type": "code",
   "execution_count": null,
   "metadata": {
    "collapsed": true
   },
   "outputs": [],
   "source": []
  }
 ],
 "metadata": {
  "kernelspec": {
   "display_name": "Python 3",
   "language": "python",
   "name": "python3"
  },
  "language_info": {
   "codemirror_mode": {
    "name": "ipython",
    "version": 3
   },
   "file_extension": ".py",
   "mimetype": "text/x-python",
   "name": "python",
   "nbconvert_exporter": "python",
   "pygments_lexer": "ipython3",
   "version": "3.5.2"
  }
 },
 "nbformat": 4,
 "nbformat_minor": 0
}
