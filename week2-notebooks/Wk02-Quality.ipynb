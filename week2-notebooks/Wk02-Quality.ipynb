{
 "cells": [
  {
   "cell_type": "markdown",
   "metadata": {},
   "source": [
    "# Writing quality code"
   ]
  },
  {
   "cell_type": "markdown",
   "metadata": {},
   "source": [
    "There are a number of steps we can take to make changing, reusing, and understanding our code in the future easier:\n",
    "\n",
    "* Conversion to a function or class\n",
    "* Improve the readability of the code\n",
    "* Provide documentation\n",
    "* Actually test that the code is working properly"
   ]
  },
  {
   "cell_type": "markdown",
   "metadata": {},
   "source": [
    "## Improving Readability\n",
    "\n",
    "Code is typically read much more often than it is written. Following a simple set of guidelines makes code easier to read. The precise guidelines that are followed is less important than applying them consistently. A consistent writing style makes reading code much easier.\n",
    "\n",
    "Individual projects and companies may have their own style guides (such as [Google Python Style Guide](https://google.github.io/styleguide/pyguide.html) and [Twisted](http://twistedmatrix.com/documents/current/core/development/policy/coding-standard.html#auto26)) with [PEP8](https://www.python.org/dev/peps/pep-0008/) being the style guide used for python itself and the most widely used style guide in the community.\n",
    "\n",
    "To help with adhering to the guide there are a number of software tools that can automatically check our code. [flake8](https://pypi.python.org/pypi/flake8) is one example that checks against the style guide as well as catching some other issues."
   ]
  },
  {
   "cell_type": "markdown",
   "metadata": {},
   "source": [
    "## Documentation\n",
    "\n",
    "At the moment the only way to understand how to use our code is to read it all. There is no indication of how the input variables should be structured or what the function returns. If we wanted to reuse this code in the future we would waste a significant amount of time simply re-familiarizing ourselves with what is happening.\n",
    "\n",
    "Documentation, both included with the code and separate if necessary, can significantly speed up this process.\n",
    "\n",
    "In python files we can include documentation at the top of files and with individual functions.\n",
    "\n",
    "https://www.python.org/dev/peps/pep-0257/"
   ]
  },
  {
   "cell_type": "markdown",
   "metadata": {},
   "source": [
    "## Testing\n",
    "\n",
    "So far we have been assuming that the code we wrote works correctly. The solutions we have been getting look reasonable but have been too complex for us to be sure.\n",
    "\n",
    "We can test our code on a set of points for which we know the solution. For example, points on a straight line"
   ]
  },
  {
   "cell_type": "markdown",
   "metadata": {},
   "source": [
    "## Version control\n",
    "\n",
    "We have now moved our solver out to its own file, corrected a styling issue, and added documentation. For each change a new file was created and if we continue like this we will lose track of which is the most current version. This is a contrived example but is a real issue. Each time we try a new approach to a problem it is tempting to create a new file in case the original proves superior.\n",
    "\n",
    "For a small project this might be just about bearable. As a project grows and requires multiple different files it becomes nearly impossible to manually keep track of the dependencies. This is a very old problem, and there are a number of highly developed software tools to keep track of different file versions.\n",
    "\n",
    "Instead of creating new files whenever any change is tried, the current version is committed to the version control software and changes can then be made directly. If the change is an improvement it can also be committed to the version control software, if not then the changes can be deleted and the original restored.\n",
    "\n",
    "The most popular version control software at the moment is [Git](http://www.git-scm.com/).\n",
    "\n",
    "There are a number of good tutorials available:\n",
    "\n",
    "* http://betterexplained.com/articles/a-visual-guide-to-version-control/\n",
    "* https://www.gitbook.com/book/gitbookio/progit\n",
    "* https://services.github.com/on-demand/"
   ]
  },
  {
   "cell_type": "code",
   "execution_count": null,
   "metadata": {
    "collapsed": true
   },
   "outputs": [],
   "source": []
  },
  {
   "cell_type": "code",
   "execution_count": null,
   "metadata": {
    "collapsed": true
   },
   "outputs": [],
   "source": []
  },
  {
   "cell_type": "code",
   "execution_count": null,
   "metadata": {
    "collapsed": true
   },
   "outputs": [],
   "source": []
  }
 ],
 "metadata": {
  "kernelspec": {
   "display_name": "Python 3",
   "language": "python",
   "name": "python3"
  },
  "language_info": {
   "codemirror_mode": {
    "name": "ipython",
    "version": 3
   },
   "file_extension": ".py",
   "mimetype": "text/x-python",
   "name": "python",
   "nbconvert_exporter": "python",
   "pygments_lexer": "ipython3",
   "version": "3.5.2"
  }
 },
 "nbformat": 4,
 "nbformat_minor": 0
}
