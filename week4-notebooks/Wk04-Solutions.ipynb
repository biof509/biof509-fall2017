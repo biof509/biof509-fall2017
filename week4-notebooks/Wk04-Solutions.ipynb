{
 "cells": [
  {
   "cell_type": "markdown",
   "metadata": {},
   "source": [
    "# Week 5 - Regression and Classification\n",
    "\n",
    "## Solutions"
   ]
  },
  {
   "cell_type": "code",
   "execution_count": 1,
   "metadata": {
    "collapsed": true
   },
   "outputs": [],
   "source": [
    "import matplotlib.pyplot as plt\n",
    "import numpy as np\n",
    "\n",
    "import seaborn as sns\n",
    "\n",
    "%matplotlib inline"
   ]
  },
  {
   "cell_type": "markdown",
   "metadata": {},
   "source": [
    "## Exercises\n",
    "\n",
    "1. Load the handwritten digits dataset and choose an appropriate metric\n",
    "2. Divide the data into a training and test dataset\n",
    "3. Build a RandomForestClassifier on the training dataset, using cross-validation to evaluate performance\n",
    "4. Choose another classification algorithm and apply it to the handwritten digits dataset. \n",
    "5. Use grid search to find the optimal parameters for the chosen algorithm.\n",
    "6. Comparing the true values with the predictions from the best model identify the numbers that are most commonly confused."
   ]
  },
  {
   "cell_type": "code",
   "execution_count": 2,
   "metadata": {
    "collapsed": false
   },
   "outputs": [],
   "source": [
    "# 1 - Load the handwritten digits dataset and choose an appropriate metric\n",
    "\n",
    "import sklearn.datasets\n",
    "from sklearn.metrics import mean_squared_error\n",
    "from sklearn.metrics import r2_score\n",
    "from sklearn.metrics import explained_variance_score\n",
    "from sklearn.metrics import pairwise_distances\n",
    "\n",
    "digits = sklearn.datasets.load_digits()\n",
    "\n",
    "# X - how digits are handwritten\n",
    "X = digits['data']\n",
    "\n",
    "# y - what these digits actually are\n",
    "y = digits['target']\n"
   ]
  },
  {
   "cell_type": "markdown",
   "metadata": {},
   "source": [
    "See http://scikit-learn.org/stable/modules/model_evaluation.html#classification-metrics for more details.\n",
    "\n",
    "A balanced F1 score combining precision and recall is a good default performance measure for binary classifiers. However, our problem is multiclass - where we have 10 classes, one for each digit. In extending a binary metric to multiclass or multilabel problems, the data is treated as a collection of binary problems, one for each class.\n",
    "\n",
    "There are then a number of ways to average binary metric calculations across the set of classes, each of which may be useful in some scenario. Where available, you should select among these using the average parameter.\n",
    "\n",
    "\"macro\" simply calculates the mean of the binary metrics, giving equal weight to each class. In problems where infrequent classes are nonetheless important, macro-averaging may be a means of highlighting their performance. On the other hand, the assumption that all classes are equally important is often untrue, such that macro-averaging will over-emphasize the typically low performance on an infrequent class.\n",
    "\n",
    "Thus if we make sure that each digit is represented by approximately equal number of samples, the performance of a classifier will be best evaluated using F1 with macro averaging across the classes. Stratified Kfold or Stratified train_test_split can be used to make sure each class gets an approximately equal number of samples in a random split."
   ]
  },
  {
   "cell_type": "code",
   "execution_count": 3,
   "metadata": {
    "collapsed": false
   },
   "outputs": [
    {
     "name": "stdout",
     "output_type": "stream",
     "text": [
      "(1257, 64) (540, 64)\n"
     ]
    }
   ],
   "source": [
    "# 2 - Divide the data into a training and test dataset\n",
    "\n",
    "from sklearn.model_selection import train_test_split\n",
    "X_train, X_val, y_train, y_val = train_test_split(X, y, test_size=0.3, stratify=y)\n",
    "print(X_train.shape, X_val.shape)"
   ]
  },
  {
   "cell_type": "code",
   "execution_count": 9,
   "metadata": {
    "collapsed": false
   },
   "outputs": [
    {
     "name": "stdout",
     "output_type": "stream",
     "text": [
      "Random Forest\n"
     ]
    },
    {
     "data": {
      "image/png": "[encoded data removed]",
      "text/plain": [
       "<matplotlib.figure.Figure at 0x11a6c0390>"
      ]
     },
     "metadata": {},
     "output_type": "display_data"
    },
    {
     "name": "stdout",
     "output_type": "stream",
     "text": [
      "F1 score on a validation dataset 0.95326595485\n"
     ]
    }
   ],
   "source": [
    "# 3 - Build a RandomForestClassifier on the training dataset, using cross-validation to evaluate performance\n",
    "\n",
    "import pandas as pd\n",
    "from sklearn import ensemble\n",
    "\n",
    "clf = ensemble.RandomForestClassifier()\n",
    "\n",
    "# Check performance with cross-validation using F1 score with macro averaging\n",
    "# See http://scikit-learn.org/stable/modules/generated/sklearn.metrics.f1_score.html#sklearn.metrics.f1_score\n",
    "from sklearn.model_selection import StratifiedKFold, cross_val_score\n",
    "kfold = StratifiedKFold(n_splits=30, shuffle=True)\n",
    "scores = cross_val_score(clf, X_train, y_train, cv=kfold, scoring='f1_macro', n_jobs=-1)\n",
    "\n",
    "print(\"Random Forest\")\n",
    "\n",
    "# Plot CV scores\n",
    "pd.DataFrame(scores).hist()\n",
    "plt.title(\"F1 macro-averaged CV scores\")\n",
    "plt.ylabel(\"Frequency\")\n",
    "plt.xlabel(\"F1 score\")\n",
    "plt.show()\n",
    "\n",
    "# Additionally, check performance on validation dataset\n",
    "from sklearn.metrics import f1_score\n",
    "\n",
    "# Fit the classifier\n",
    "clf.fit(X_train, y_train)\n",
    "y_pred = clf.predict(X_val)\n",
    "score = f1_score(y_val, y_pred, average='macro')\n",
    "print(\"F1 score on a validation dataset\", score)\n",
    "\n"
   ]
  },
  {
   "cell_type": "code",
   "execution_count": 5,
   "metadata": {
    "collapsed": false
   },
   "outputs": [
    {
     "name": "stdout",
     "output_type": "stream",
     "text": [
      "K nearest neighbors\n"
     ]
    },
    {
     "data": {
      "image/png": "[encoded data removed]",
      "text/plain": [
       "<matplotlib.figure.Figure at 0x11a772240>"
      ]
     },
     "metadata": {},
     "output_type": "display_data"
    },
    {
     "name": "stdout",
     "output_type": "stream",
     "text": [
      "F1 score on a validation dataset 0.983166357058\n"
     ]
    }
   ],
   "source": [
    "# 4 - Choose another classification algorithm and apply it to the digits dataset. \n",
    "\n",
    "# Let us consider a KNN classifier with 5 nearest neighbors\n",
    "from sklearn.neighbors import KNeighborsClassifier\n",
    "\n",
    "clf = KNeighborsClassifier(n_neighbors=5)\n",
    "\n",
    "# Check performance with cross-validation using F1 score with macro averaging\n",
    "# See http://scikit-learn.org/stable/modules/generated/sklearn.metrics.f1_score.html#sklearn.metrics.f1_score\n",
    "from sklearn.model_selection import StratifiedKFold, cross_val_score\n",
    "kfold = StratifiedKFold(n_splits=30, shuffle=True)\n",
    "scores = cross_val_score(clf, X_train, y_train, cv=kfold, scoring='f1_macro', n_jobs=-1)\n",
    "\n",
    "print(\"K nearest neighbors\")\n",
    "\n",
    "# Plot CV scores\n",
    "pd.DataFrame(scores).hist()\n",
    "plt.title(\"F1 macro-averaged CV scores\")\n",
    "plt.ylabel(\"Frequency\")\n",
    "plt.xlabel(\"F1 score\")\n",
    "plt.show()\n",
    "\n",
    "\n",
    "# Additionally, check performance on validation dataset\n",
    "from sklearn.metrics import f1_score\n",
    "# Fit the classifier\n",
    "clf.fit(X_train, y_train)\n",
    "y_pred = clf.predict(X_val)\n",
    "score = f1_score(y_val, y_pred, average='macro')\n",
    "print(\"F1 score on a validation dataset\", score)\n"
   ]
  },
  {
   "cell_type": "code",
   "execution_count": 19,
   "metadata": {
    "collapsed": false
   },
   "outputs": [
    {
     "name": "stdout",
     "output_type": "stream",
     "text": [
      "{'weights': 'uniform', 'metric': 'euclidean', 'n_neighbors': 3}\n"
     ]
    }
   ],
   "source": [
    "# 5 - Use grid search to find the optimal parameters for the chosen algorithm.\n",
    "from sklearn.model_selection import GridSearchCV\n",
    "\n",
    "kfold = StratifiedKFold(n_splits=30, shuffle=True)\n",
    "parameters = {'n_neighbors': [3, 5, 7, 9, 11, 13, 15],\n",
    "              'weights': ['uniform', 'distance'],\n",
    "              'metric': ['euclidean', 'manhattan', 'chebyshev']} \n",
    "# for metric see also http://scikit-learn.org/stable/modules/generated/sklearn.neighbors.DistanceMetric.html\n",
    "clf = KNeighborsClassifier()\n",
    "grid = GridSearchCV(clf, parameters, cv=kfold, n_jobs=-1)\n",
    "grid.fit(X_train, y_train)\n",
    "print(grid.best_params_)\n",
    "\n",
    "best_clf = grid.best_estimator_"
   ]
  },
  {
   "cell_type": "code",
   "execution_count": 21,
   "metadata": {
    "collapsed": false
   },
   "outputs": [
    {
     "name": "stdout",
     "output_type": "stream",
     "text": [
      "[[54  0  0  0  0  0  0  0  0  0]\n",
      " [ 0 55  0  0  0  0  0  0  0  0]\n",
      " [ 0  0 53  0  0  0  0  0  0  0]\n",
      " [ 0  0  0 55  0  0  0  0  0  0]\n",
      " [ 0  0  0  0 54  0  0  0  0  0]\n",
      " [ 0  0  0  0  0 53  1  0  0  1]\n",
      " [ 0  0  0  0  0  0 54  0  0  0]\n",
      " [ 0  0  0  0  0  0  0 54  0  0]\n",
      " [ 0  4  0  1  0  0  0  0 47  0]\n",
      " [ 0  0  0  1  0  2  0  0  1 50]]\n"
     ]
    }
   ],
   "source": [
    "# 6 - Comparing the true values with the predictions from the best model identify the numbers that are most commonly confused.\n",
    "from sklearn.metrics import confusion_matrix\n",
    "\n",
    "y_pred = best_clf.predict(X_val)\n",
    "confusion = confusion_matrix(y_val, y_pred)\n",
    "print(confusion)\n",
    "# According to confusion matrix digits 8 and 9 have the highest number of confusions - incorrect classifications\n",
    "# E.g. 9 is confused with 1,  8 is confused with 5"
   ]
  },
  {
   "cell_type": "code",
   "execution_count": null,
   "metadata": {
    "collapsed": true
   },
   "outputs": [],
   "source": []
  }
 ],
 "metadata": {
  "anaconda-cloud": {},
  "kernelspec": {
   "display_name": "Python [py35]",
   "language": "python",
   "name": "Python [py35]"
  },
  "language_info": {
   "codemirror_mode": {
    "name": "ipython",
    "version": 3
   },
   "file_extension": ".py",
   "mimetype": "text/x-python",
   "name": "python",
   "nbconvert_exporter": "python",
   "pygments_lexer": "ipython3",
   "version": "3.5.2"
  }
 },
 "nbformat": 4,
 "nbformat_minor": 0
}
